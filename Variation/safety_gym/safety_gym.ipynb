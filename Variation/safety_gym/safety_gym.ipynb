{
  "nbformat": 4,
  "nbformat_minor": 0,
  "metadata": {
    "colab": {
      "name": "Untitled4.ipynb",
      "provenance": [],
      "collapsed_sections": []
    },
    "kernelspec": {
      "name": "python3",
      "display_name": "Python 3"
    },
    "language_info": {
      "name": "python"
    },
    "accelerator": "GPU"
  },
  "cells": [
    {
      "cell_type": "code",
      "source": [
        "\n",
        "#Include this at the top of your colab code\n",
        "import os\n",
        "if not os.path.exists('.mujoco_setup_complete'):\n",
        "  # Get the prereqs\n",
        "  !apt-get -qq update\n",
        "  !apt-get -qq install -y libosmesa6-dev libgl1-mesa-glx libglfw3 libgl1-mesa-dev libglew-dev patchelf\n",
        "  # Get Mujoco\n",
        "  !mkdir ~/.mujoco\n",
        "  !wget -q https://mujoco.org/download/mujoco210-linux-x86_64.tar.gz -O mujoco.tar.gz\n",
        "  !tar -zxf mujoco.tar.gz -C \"$HOME/.mujoco\"\n",
        "  !rm mujoco.tar.gz\n",
        "  # Add it to the actively loaded path and the bashrc path (these only do so much)\n",
        "  !echo 'export LD_LIBRARY_PATH=$LD_LIBRARY_PATH:$HOME/.mujoco/mujoco210/bin' >> ~/.bashrc \n",
        "  !echo 'export LD_PRELOAD=$LD_PRELOAD:/usr/lib/x86_64-linux-gnu/libGLEW.so' >> ~/.bashrc \n",
        "  # THE ANNOYING ONE, FORCE IT INTO LDCONFIG SO WE ACTUALLY GET ACCESS TO IT THIS SESSION\n",
        "  !echo \"/root/.mujoco/mujoco210/bin\" > /etc/ld.so.conf.d/mujoco_ld_lib_path.conf\n",
        "  !ldconfig\n",
        "  # Install Mujoco-py\n",
        "  !pip3 install -U 'mujoco-py<2.2,>=2.1'\n",
        "  # run once\n",
        "  !touch .mujoco_setup_complete\n",
        "\n",
        "try:\n",
        "  if _mujoco_run_once:\n",
        "    pass\n",
        "except NameError:\n",
        "  _mujoco_run_once = False\n",
        "if not _mujoco_run_once:\n",
        "  # Add it to the actively loaded path and the bashrc path (these only do so much)\n",
        "  try:\n",
        "    os.environ['LD_LIBRARY_PATH']=os.environ['LD_LIBRARY_PATH'] + ':/root/.mujoco/mujoco210/bin'\n",
        "  except KeyError:\n",
        "    os.environ['LD_LIBRARY_PATH']='/root/.mujoco/mujoco210/bin'\n",
        "  try:\n",
        "    os.environ['LD_PRELOAD']=os.environ['LD_PRELOAD'] + ':/usr/lib/x86_64-linux-gnu/libGLEW.so'\n",
        "  except KeyError:\n",
        "    os.environ['LD_PRELOAD']='/usr/lib/x86_64-linux-gnu/libGLEW.so'\n",
        "  # presetup so we don't see output on first env initialization\n",
        "  import mujoco_py\n",
        "  _mujoco_run_once = True"
      ],
      "metadata": {
        "colab": {
          "base_uri": "https://localhost:8080/"
        },
        "id": "B2daEDTdMw4O",
        "outputId": "fa75c974-ed08-4204-afb2-a0c2ea59e99d"
      },
      "execution_count": 1,
      "outputs": [
        {
          "output_type": "stream",
          "name": "stdout",
          "text": [
            "Selecting previously unselected package libgl1-mesa-glx:amd64.\n",
            "(Reading database ... 155222 files and directories currently installed.)\n",
            "Preparing to unpack .../0-libgl1-mesa-glx_20.0.8-0ubuntu1~18.04.1_amd64.deb ...\n",
            "Unpacking libgl1-mesa-glx:amd64 (20.0.8-0ubuntu1~18.04.1) ...\n",
            "Selecting previously unselected package libglew2.0:amd64.\n",
            "Preparing to unpack .../1-libglew2.0_2.0.0-5_amd64.deb ...\n",
            "Unpacking libglew2.0:amd64 (2.0.0-5) ...\n",
            "Selecting previously unselected package libglew-dev:amd64.\n",
            "Preparing to unpack .../2-libglew-dev_2.0.0-5_amd64.deb ...\n",
            "Unpacking libglew-dev:amd64 (2.0.0-5) ...\n",
            "Selecting previously unselected package libglfw3:amd64.\n",
            "Preparing to unpack .../3-libglfw3_3.2.1-1_amd64.deb ...\n",
            "Unpacking libglfw3:amd64 (3.2.1-1) ...\n",
            "Selecting previously unselected package patchelf.\n",
            "Preparing to unpack .../4-patchelf_0.9-1_amd64.deb ...\n",
            "Unpacking patchelf (0.9-1) ...\n",
            "Selecting previously unselected package libosmesa6:amd64.\n",
            "Preparing to unpack .../5-libosmesa6_20.0.8-0ubuntu1~18.04.1_amd64.deb ...\n",
            "Unpacking libosmesa6:amd64 (20.0.8-0ubuntu1~18.04.1) ...\n",
            "Selecting previously unselected package libosmesa6-dev:amd64.\n",
            "Preparing to unpack .../6-libosmesa6-dev_20.0.8-0ubuntu1~18.04.1_amd64.deb ...\n",
            "Unpacking libosmesa6-dev:amd64 (20.0.8-0ubuntu1~18.04.1) ...\n",
            "Setting up patchelf (0.9-1) ...\n",
            "Setting up libosmesa6:amd64 (20.0.8-0ubuntu1~18.04.1) ...\n",
            "Setting up libglfw3:amd64 (3.2.1-1) ...\n",
            "Setting up libgl1-mesa-glx:amd64 (20.0.8-0ubuntu1~18.04.1) ...\n",
            "Setting up libglew2.0:amd64 (2.0.0-5) ...\n",
            "Setting up libglew-dev:amd64 (2.0.0-5) ...\n",
            "Setting up libosmesa6-dev:amd64 (20.0.8-0ubuntu1~18.04.1) ...\n",
            "Processing triggers for man-db (2.8.3-2ubuntu0.1) ...\n",
            "Processing triggers for libc-bin (2.27-3ubuntu1.3) ...\n",
            "/sbin/ldconfig.real: /usr/local/lib/python3.7/dist-packages/ideep4py/lib/libmkldnn.so.0 is not a symbolic link\n",
            "\n",
            "/sbin/ldconfig.real: /usr/local/lib/python3.7/dist-packages/ideep4py/lib/libmkldnn.so.0 is not a symbolic link\n",
            "\n",
            "Collecting mujoco-py<2.2,>=2.1\n",
            "  Downloading mujoco_py-2.1.2.14-py3-none-any.whl (2.4 MB)\n",
            "\u001b[K     |████████████████████████████████| 2.4 MB 5.3 MB/s \n",
            "\u001b[?25hRequirement already satisfied: Cython>=0.27.2 in /usr/local/lib/python3.7/dist-packages (from mujoco-py<2.2,>=2.1) (0.29.24)\n",
            "Collecting fasteners~=0.15\n",
            "  Downloading fasteners-0.16.3-py2.py3-none-any.whl (28 kB)\n",
            "Requirement already satisfied: numpy>=1.11 in /usr/local/lib/python3.7/dist-packages (from mujoco-py<2.2,>=2.1) (1.19.5)\n",
            "Requirement already satisfied: imageio>=2.1.2 in /usr/local/lib/python3.7/dist-packages (from mujoco-py<2.2,>=2.1) (2.4.1)\n",
            "Collecting glfw>=1.4.0\n",
            "  Downloading glfw-2.4.0-py2.py27.py3.py30.py31.py32.py33.py34.py35.py36.py37.py38-none-manylinux2014_x86_64.whl (205 kB)\n",
            "\u001b[K     |████████████████████████████████| 205 kB 48.3 MB/s \n",
            "\u001b[?25hRequirement already satisfied: cffi>=1.10 in /usr/local/lib/python3.7/dist-packages (from mujoco-py<2.2,>=2.1) (1.15.0)\n",
            "Requirement already satisfied: pycparser in /usr/local/lib/python3.7/dist-packages (from cffi>=1.10->mujoco-py<2.2,>=2.1) (2.21)\n",
            "Requirement already satisfied: six in /usr/local/lib/python3.7/dist-packages (from fasteners~=0.15->mujoco-py<2.2,>=2.1) (1.15.0)\n",
            "Requirement already satisfied: pillow in /usr/local/lib/python3.7/dist-packages (from imageio>=2.1.2->mujoco-py<2.2,>=2.1) (7.1.2)\n",
            "Installing collected packages: glfw, fasteners, mujoco-py\n",
            "Successfully installed fasteners-0.16.3 glfw-2.4.0 mujoco-py-2.1.2.14\n",
            "Compiling /usr/local/lib/python3.7/dist-packages/mujoco_py/cymj.pyx because it changed.\n",
            "[1/1] Cythonizing /usr/local/lib/python3.7/dist-packages/mujoco_py/cymj.pyx\n",
            "running build_ext\n",
            "building 'mujoco_py.cymj' extension\n",
            "creating /usr/local/lib/python3.7/dist-packages/mujoco_py/generated/_pyxbld_2.1.2.14_37_linuxcpuextensionbuilder\n",
            "creating /usr/local/lib/python3.7/dist-packages/mujoco_py/generated/_pyxbld_2.1.2.14_37_linuxcpuextensionbuilder/temp.linux-x86_64-3.7\n",
            "creating /usr/local/lib/python3.7/dist-packages/mujoco_py/generated/_pyxbld_2.1.2.14_37_linuxcpuextensionbuilder/temp.linux-x86_64-3.7/usr\n",
            "creating /usr/local/lib/python3.7/dist-packages/mujoco_py/generated/_pyxbld_2.1.2.14_37_linuxcpuextensionbuilder/temp.linux-x86_64-3.7/usr/local\n",
            "creating /usr/local/lib/python3.7/dist-packages/mujoco_py/generated/_pyxbld_2.1.2.14_37_linuxcpuextensionbuilder/temp.linux-x86_64-3.7/usr/local/lib\n",
            "creating /usr/local/lib/python3.7/dist-packages/mujoco_py/generated/_pyxbld_2.1.2.14_37_linuxcpuextensionbuilder/temp.linux-x86_64-3.7/usr/local/lib/python3.7\n",
            "creating /usr/local/lib/python3.7/dist-packages/mujoco_py/generated/_pyxbld_2.1.2.14_37_linuxcpuextensionbuilder/temp.linux-x86_64-3.7/usr/local/lib/python3.7/dist-packages\n",
            "creating /usr/local/lib/python3.7/dist-packages/mujoco_py/generated/_pyxbld_2.1.2.14_37_linuxcpuextensionbuilder/temp.linux-x86_64-3.7/usr/local/lib/python3.7/dist-packages/mujoco_py\n",
            "creating /usr/local/lib/python3.7/dist-packages/mujoco_py/generated/_pyxbld_2.1.2.14_37_linuxcpuextensionbuilder/temp.linux-x86_64-3.7/usr/local/lib/python3.7/dist-packages/mujoco_py/gl\n",
            "x86_64-linux-gnu-gcc -pthread -Wno-unused-result -Wsign-compare -DNDEBUG -g -fwrapv -O2 -Wall -g -fdebug-prefix-map=/build/python3.7-Y7dWVB/python3.7-3.7.12=. -fstack-protector-strong -Wformat -Werror=format-security -g -fdebug-prefix-map=/build/python3.7-Y7dWVB/python3.7-3.7.12=. -fstack-protector-strong -Wformat -Werror=format-security -Wdate-time -D_FORTIFY_SOURCE=2 -fPIC -I/usr/local/lib/python3.7/dist-packages/mujoco_py -I/root/.mujoco/mujoco210/include -I/usr/local/lib/python3.7/dist-packages/numpy/core/include -I/usr/include/python3.7m -c /usr/local/lib/python3.7/dist-packages/mujoco_py/cymj.c -o /usr/local/lib/python3.7/dist-packages/mujoco_py/generated/_pyxbld_2.1.2.14_37_linuxcpuextensionbuilder/temp.linux-x86_64-3.7/usr/local/lib/python3.7/dist-packages/mujoco_py/cymj.o -fopenmp -w\n",
            "x86_64-linux-gnu-gcc -pthread -Wno-unused-result -Wsign-compare -DNDEBUG -g -fwrapv -O2 -Wall -g -fdebug-prefix-map=/build/python3.7-Y7dWVB/python3.7-3.7.12=. -fstack-protector-strong -Wformat -Werror=format-security -g -fdebug-prefix-map=/build/python3.7-Y7dWVB/python3.7-3.7.12=. -fstack-protector-strong -Wformat -Werror=format-security -Wdate-time -D_FORTIFY_SOURCE=2 -fPIC -I/usr/local/lib/python3.7/dist-packages/mujoco_py -I/root/.mujoco/mujoco210/include -I/usr/local/lib/python3.7/dist-packages/numpy/core/include -I/usr/include/python3.7m -c /usr/local/lib/python3.7/dist-packages/mujoco_py/gl/osmesashim.c -o /usr/local/lib/python3.7/dist-packages/mujoco_py/generated/_pyxbld_2.1.2.14_37_linuxcpuextensionbuilder/temp.linux-x86_64-3.7/usr/local/lib/python3.7/dist-packages/mujoco_py/gl/osmesashim.o -fopenmp -w\n",
            "creating /usr/local/lib/python3.7/dist-packages/mujoco_py/generated/_pyxbld_2.1.2.14_37_linuxcpuextensionbuilder/lib.linux-x86_64-3.7\n",
            "creating /usr/local/lib/python3.7/dist-packages/mujoco_py/generated/_pyxbld_2.1.2.14_37_linuxcpuextensionbuilder/lib.linux-x86_64-3.7/mujoco_py\n",
            "x86_64-linux-gnu-gcc -pthread -shared -Wl,-O1 -Wl,-Bsymbolic-functions -Wl,-Bsymbolic-functions -Wl,-z,relro -Wl,-Bsymbolic-functions -Wl,-z,relro -g -fdebug-prefix-map=/build/python3.7-Y7dWVB/python3.7-3.7.12=. -fstack-protector-strong -Wformat -Werror=format-security -Wdate-time -D_FORTIFY_SOURCE=2 /usr/local/lib/python3.7/dist-packages/mujoco_py/generated/_pyxbld_2.1.2.14_37_linuxcpuextensionbuilder/temp.linux-x86_64-3.7/usr/local/lib/python3.7/dist-packages/mujoco_py/cymj.o /usr/local/lib/python3.7/dist-packages/mujoco_py/generated/_pyxbld_2.1.2.14_37_linuxcpuextensionbuilder/temp.linux-x86_64-3.7/usr/local/lib/python3.7/dist-packages/mujoco_py/gl/osmesashim.o -L/root/.mujoco/mujoco210/bin -Wl,--enable-new-dtags,-R/root/.mujoco/mujoco210/bin -lmujoco210 -lglewosmesa -lOSMesa -lGL -o /usr/local/lib/python3.7/dist-packages/mujoco_py/generated/_pyxbld_2.1.2.14_37_linuxcpuextensionbuilder/lib.linux-x86_64-3.7/mujoco_py/cymj.cpython-37m-x86_64-linux-gnu.so -fopenmp\n"
          ]
        }
      ]
    },
    {
      "cell_type": "code",
      "source": [
        "!git clone https://github.com/openai/safety-gym.git\n",
        "\n",
        "!cd safety-gym; pip install -e ."
      ],
      "metadata": {
        "colab": {
          "base_uri": "https://localhost:8080/"
        },
        "id": "gsVi7ngDNRzt",
        "outputId": "818b5a6a-4eb5-44d9-b472-d220414694a9"
      },
      "execution_count": 10,
      "outputs": [
        {
          "output_type": "stream",
          "name": "stdout",
          "text": [
            "fatal: destination path 'safety-gym' already exists and is not an empty directory.\n",
            "Obtaining file:///content/safety-gym\n",
            "Requirement already satisfied: gym in /usr/local/lib/python3.7/dist-packages (from safety-gym==0.0.0) (0.15.7)\n",
            "Requirement already satisfied: joblib in /usr/local/lib/python3.7/dist-packages (from safety-gym==0.0.0) (0.14.0)\n",
            "Requirement already satisfied: mujoco_py in /usr/local/lib/python3.7/dist-packages (from safety-gym==0.0.0) (2.1.2.14)\n",
            "Requirement already satisfied: numpy in /usr/local/lib/python3.7/dist-packages (from safety-gym==0.0.0) (1.17.5)\n",
            "Collecting xmltodict\n",
            "  Using cached xmltodict-0.12.0-py2.py3-none-any.whl (9.2 kB)\n",
            "Requirement already satisfied: cloudpickle~=1.2.0 in /usr/local/lib/python3.7/dist-packages (from gym->safety-gym==0.0.0) (1.2.2)\n",
            "Requirement already satisfied: six in /usr/local/lib/python3.7/dist-packages (from gym->safety-gym==0.0.0) (1.15.0)\n",
            "Requirement already satisfied: scipy in /usr/local/lib/python3.7/dist-packages (from gym->safety-gym==0.0.0) (1.4.1)\n",
            "Requirement already satisfied: pyglet<=1.5.0,>=1.4.0 in /usr/local/lib/python3.7/dist-packages (from gym->safety-gym==0.0.0) (1.5.0)\n",
            "Requirement already satisfied: future in /usr/local/lib/python3.7/dist-packages (from pyglet<=1.5.0,>=1.4.0->gym->safety-gym==0.0.0) (0.16.0)\n",
            "Requirement already satisfied: Cython>=0.27.2 in /usr/local/lib/python3.7/dist-packages (from mujoco_py->safety-gym==0.0.0) (0.29.24)\n",
            "Requirement already satisfied: cffi>=1.10 in /usr/local/lib/python3.7/dist-packages (from mujoco_py->safety-gym==0.0.0) (1.15.0)\n",
            "Requirement already satisfied: glfw>=1.4.0 in /usr/local/lib/python3.7/dist-packages (from mujoco_py->safety-gym==0.0.0) (2.4.0)\n",
            "Requirement already satisfied: fasteners~=0.15 in /usr/local/lib/python3.7/dist-packages (from mujoco_py->safety-gym==0.0.0) (0.16.3)\n",
            "Requirement already satisfied: imageio>=2.1.2 in /usr/local/lib/python3.7/dist-packages (from mujoco_py->safety-gym==0.0.0) (2.4.1)\n",
            "Requirement already satisfied: pycparser in /usr/local/lib/python3.7/dist-packages (from cffi>=1.10->mujoco_py->safety-gym==0.0.0) (2.21)\n",
            "Requirement already satisfied: pillow in /usr/local/lib/python3.7/dist-packages (from imageio>=2.1.2->mujoco_py->safety-gym==0.0.0) (7.1.2)\n",
            "Installing collected packages: xmltodict, safety-gym\n",
            "  Running setup.py develop for safety-gym\n",
            "Successfully installed safety-gym-0.0.0 xmltodict-0.12.0\n"
          ]
        }
      ]
    },
    {
      "cell_type": "code",
      "source": [
        "!git clone https://github.com/openai/safety-starter-agents.git"
      ],
      "metadata": {
        "colab": {
          "base_uri": "https://localhost:8080/"
        },
        "id": "0356xZ__IpJd",
        "outputId": "f6cd6337-9e8a-4c11-fba7-d3dbf0b7328f"
      },
      "execution_count": 2,
      "outputs": [
        {
          "output_type": "stream",
          "name": "stdout",
          "text": [
            "Cloning into 'safety-starter-agents'...\n",
            "remote: Enumerating objects: 34, done.\u001b[K\n",
            "remote: Total 34 (delta 0), reused 0 (delta 0), pack-reused 34\u001b[K\n",
            "Unpacking objects: 100% (34/34), done.\n"
          ]
        }
      ]
    },
    {
      "cell_type": "code",
      "source": [
        "!cd safety-starter-agents; pip3 install -e ."
      ],
      "metadata": {
        "colab": {
          "base_uri": "https://localhost:8080/"
        },
        "id": "QOl92bHs81A1",
        "outputId": "155ff272-5d0d-41c5-895d-7bd58bace38c"
      },
      "execution_count": 7,
      "outputs": [
        {
          "output_type": "stream",
          "name": "stdout",
          "text": [
            "Obtaining file:///content/safety-starter-agents\n",
            "Requirement already satisfied: gym in /usr/local/lib/python3.7/dist-packages (from safe-rl==0.0.0) (0.15.7)\n",
            "Requirement already satisfied: joblib in /usr/local/lib/python3.7/dist-packages (from safe-rl==0.0.0) (0.14.0)\n",
            "Requirement already satisfied: matplotlib in /usr/local/lib/python3.7/dist-packages (from safe-rl==0.0.0) (3.1.1)\n",
            "Requirement already satisfied: mpi4py in /usr/local/lib/python3.7/dist-packages (from safe-rl==0.0.0) (3.0.2)\n",
            "Requirement already satisfied: mujoco_py in /usr/local/lib/python3.7/dist-packages (from safe-rl==0.0.0) (2.1.2.14)\n",
            "Requirement already satisfied: numpy in /usr/local/lib/python3.7/dist-packages (from safe-rl==0.0.0) (1.17.5)\n",
            "Requirement already satisfied: seaborn in /usr/local/lib/python3.7/dist-packages (from safe-rl==0.0.0) (0.8.1)\n",
            "Requirement already satisfied: tensorflow==1.13.1 in /usr/local/lib/python3.7/dist-packages (from safe-rl==0.0.0) (1.13.1)\n",
            "Requirement already satisfied: protobuf>=3.6.1 in /usr/local/lib/python3.7/dist-packages (from tensorflow==1.13.1->safe-rl==0.0.0) (3.17.3)\n",
            "Requirement already satisfied: tensorflow-estimator<1.14.0rc0,>=1.13.0 in /usr/local/lib/python3.7/dist-packages (from tensorflow==1.13.1->safe-rl==0.0.0) (1.13.0)\n",
            "Requirement already satisfied: absl-py>=0.1.6 in /usr/local/lib/python3.7/dist-packages (from tensorflow==1.13.1->safe-rl==0.0.0) (0.12.0)\n",
            "Requirement already satisfied: wheel>=0.26 in /usr/local/lib/python3.7/dist-packages (from tensorflow==1.13.1->safe-rl==0.0.0) (0.37.0)\n",
            "Requirement already satisfied: keras-preprocessing>=1.0.5 in /usr/local/lib/python3.7/dist-packages (from tensorflow==1.13.1->safe-rl==0.0.0) (1.1.2)\n",
            "Requirement already satisfied: six>=1.10.0 in /usr/local/lib/python3.7/dist-packages (from tensorflow==1.13.1->safe-rl==0.0.0) (1.15.0)\n",
            "Requirement already satisfied: tensorboard<1.14.0,>=1.13.0 in /usr/local/lib/python3.7/dist-packages (from tensorflow==1.13.1->safe-rl==0.0.0) (1.13.1)\n",
            "Requirement already satisfied: keras-applications>=1.0.6 in /usr/local/lib/python3.7/dist-packages (from tensorflow==1.13.1->safe-rl==0.0.0) (1.0.8)\n",
            "Requirement already satisfied: gast>=0.2.0 in /usr/local/lib/python3.7/dist-packages (from tensorflow==1.13.1->safe-rl==0.0.0) (0.4.0)\n",
            "Requirement already satisfied: astor>=0.6.0 in /usr/local/lib/python3.7/dist-packages (from tensorflow==1.13.1->safe-rl==0.0.0) (0.8.1)\n",
            "Requirement already satisfied: termcolor>=1.1.0 in /usr/local/lib/python3.7/dist-packages (from tensorflow==1.13.1->safe-rl==0.0.0) (1.1.0)\n",
            "Requirement already satisfied: grpcio>=1.8.6 in /usr/local/lib/python3.7/dist-packages (from tensorflow==1.13.1->safe-rl==0.0.0) (1.42.0)\n",
            "Requirement already satisfied: h5py in /usr/local/lib/python3.7/dist-packages (from keras-applications>=1.0.6->tensorflow==1.13.1->safe-rl==0.0.0) (3.1.0)\n",
            "Requirement already satisfied: werkzeug>=0.11.15 in /usr/local/lib/python3.7/dist-packages (from tensorboard<1.14.0,>=1.13.0->tensorflow==1.13.1->safe-rl==0.0.0) (1.0.1)\n",
            "Requirement already satisfied: markdown>=2.6.8 in /usr/local/lib/python3.7/dist-packages (from tensorboard<1.14.0,>=1.13.0->tensorflow==1.13.1->safe-rl==0.0.0) (3.3.6)\n",
            "Requirement already satisfied: importlib-metadata>=4.4 in /usr/local/lib/python3.7/dist-packages (from markdown>=2.6.8->tensorboard<1.14.0,>=1.13.0->tensorflow==1.13.1->safe-rl==0.0.0) (4.8.2)\n",
            "Requirement already satisfied: typing-extensions>=3.6.4 in /usr/local/lib/python3.7/dist-packages (from importlib-metadata>=4.4->markdown>=2.6.8->tensorboard<1.14.0,>=1.13.0->tensorflow==1.13.1->safe-rl==0.0.0) (3.10.0.2)\n",
            "Requirement already satisfied: zipp>=0.5 in /usr/local/lib/python3.7/dist-packages (from importlib-metadata>=4.4->markdown>=2.6.8->tensorboard<1.14.0,>=1.13.0->tensorflow==1.13.1->safe-rl==0.0.0) (3.6.0)\n",
            "Requirement already satisfied: mock>=2.0.0 in /usr/local/lib/python3.7/dist-packages (from tensorflow-estimator<1.14.0rc0,>=1.13.0->tensorflow==1.13.1->safe-rl==0.0.0) (4.0.3)\n",
            "Requirement already satisfied: scipy in /usr/local/lib/python3.7/dist-packages (from gym->safe-rl==0.0.0) (1.4.1)\n",
            "Requirement already satisfied: cloudpickle~=1.2.0 in /usr/local/lib/python3.7/dist-packages (from gym->safe-rl==0.0.0) (1.2.2)\n",
            "Requirement already satisfied: pyglet<=1.5.0,>=1.4.0 in /usr/local/lib/python3.7/dist-packages (from gym->safe-rl==0.0.0) (1.5.0)\n",
            "Requirement already satisfied: future in /usr/local/lib/python3.7/dist-packages (from pyglet<=1.5.0,>=1.4.0->gym->safe-rl==0.0.0) (0.16.0)\n",
            "Requirement already satisfied: cached-property in /usr/local/lib/python3.7/dist-packages (from h5py->keras-applications>=1.0.6->tensorflow==1.13.1->safe-rl==0.0.0) (1.5.2)\n",
            "Requirement already satisfied: kiwisolver>=1.0.1 in /usr/local/lib/python3.7/dist-packages (from matplotlib->safe-rl==0.0.0) (1.3.2)\n",
            "Requirement already satisfied: cycler>=0.10 in /usr/local/lib/python3.7/dist-packages (from matplotlib->safe-rl==0.0.0) (0.11.0)\n",
            "Requirement already satisfied: pyparsing!=2.0.4,!=2.1.2,!=2.1.6,>=2.0.1 in /usr/local/lib/python3.7/dist-packages (from matplotlib->safe-rl==0.0.0) (3.0.6)\n",
            "Requirement already satisfied: python-dateutil>=2.1 in /usr/local/lib/python3.7/dist-packages (from matplotlib->safe-rl==0.0.0) (2.8.2)\n",
            "Requirement already satisfied: Cython>=0.27.2 in /usr/local/lib/python3.7/dist-packages (from mujoco_py->safe-rl==0.0.0) (0.29.24)\n",
            "Requirement already satisfied: fasteners~=0.15 in /usr/local/lib/python3.7/dist-packages (from mujoco_py->safe-rl==0.0.0) (0.16.3)\n",
            "Requirement already satisfied: cffi>=1.10 in /usr/local/lib/python3.7/dist-packages (from mujoco_py->safe-rl==0.0.0) (1.15.0)\n",
            "Requirement already satisfied: glfw>=1.4.0 in /usr/local/lib/python3.7/dist-packages (from mujoco_py->safe-rl==0.0.0) (2.4.0)\n",
            "Requirement already satisfied: imageio>=2.1.2 in /usr/local/lib/python3.7/dist-packages (from mujoco_py->safe-rl==0.0.0) (2.4.1)\n",
            "Requirement already satisfied: pycparser in /usr/local/lib/python3.7/dist-packages (from cffi>=1.10->mujoco_py->safe-rl==0.0.0) (2.21)\n",
            "Requirement already satisfied: pillow in /usr/local/lib/python3.7/dist-packages (from imageio>=2.1.2->mujoco_py->safe-rl==0.0.0) (7.1.2)\n",
            "Installing collected packages: safe-rl\n",
            "  Attempting uninstall: safe-rl\n",
            "    Found existing installation: safe-rl 0.0.0\n",
            "    Can't uninstall 'safe-rl'. No files were found to uninstall.\n",
            "  Running setup.py develop for safe-rl\n",
            "Successfully installed safe-rl-0.0.0\n"
          ]
        }
      ]
    },
    {
      "cell_type": "code",
      "source": [
        "!wget https://mujoco.org/download/mujoco210-linux-x86_64.tar.gz"
      ],
      "metadata": {
        "colab": {
          "base_uri": "https://localhost:8080/"
        },
        "id": "9CEfeCS0KgSE",
        "outputId": "02629fdc-c835-47bb-c521-921f3ab1e282"
      },
      "execution_count": 8,
      "outputs": [
        {
          "output_type": "stream",
          "name": "stdout",
          "text": [
            "--2021-12-16 03:14:39--  https://mujoco.org/download/mujoco210-linux-x86_64.tar.gz\n",
            "Resolving mujoco.org (mujoco.org)... 216.239.32.21, 216.239.38.21, 216.239.36.21, ...\n",
            "Connecting to mujoco.org (mujoco.org)|216.239.32.21|:443... connected.\n",
            "HTTP request sent, awaiting response... 200 OK\n",
            "Length: unspecified [application/x-tar]\n",
            "Saving to: ‘mujoco210-linux-x86_64.tar.gz.1’\n",
            "\n",
            "\r          mujoco210     [<=>                 ]       0  --.-KB/s               \rmujoco210-linux-x86     [ <=>                ]   4.18M  --.-KB/s    in 0.04s   \n",
            "\n",
            "2021-12-16 03:14:39 (96.5 MB/s) - ‘mujoco210-linux-x86_64.tar.gz.1’ saved [4385135]\n",
            "\n"
          ]
        }
      ]
    },
    {
      "cell_type": "code",
      "source": [
        "!mkdir ~/.mujoco\n"
      ],
      "metadata": {
        "id": "HA5YzHpWLBD3"
      },
      "execution_count": 32,
      "outputs": []
    },
    {
      "cell_type": "code",
      "source": [
        "!mkdir ~/.mujoco/mujoco210\n"
      ],
      "metadata": {
        "id": "pSootRXWLFzc"
      },
      "execution_count": 33,
      "outputs": []
    },
    {
      "cell_type": "code",
      "source": [
        "!tar xvzf  /content/mujoco210-linux-x86_64.tar.gz -C ~/.mujoco/mujoco210"
      ],
      "metadata": {
        "colab": {
          "base_uri": "https://localhost:8080/"
        },
        "id": "uDbawTqcKh4E",
        "outputId": "241eb14d-54d5-438a-92f6-beb7dbfc6383"
      },
      "execution_count": 34,
      "outputs": [
        {
          "output_type": "stream",
          "name": "stdout",
          "text": [
            "mujoco210/\n",
            "mujoco210/THIRD_PARTY_NOTICES\n",
            "mujoco210/bin/\n",
            "mujoco210/bin/libglfw.so.3\n",
            "mujoco210/bin/derivative\n",
            "mujoco210/bin/libglew.so\n",
            "mujoco210/bin/record\n",
            "mujoco210/bin/simulate\n",
            "mujoco210/bin/libglewegl.so\n",
            "mujoco210/bin/testxml\n",
            "mujoco210/bin/basic\n",
            "mujoco210/bin/libglewosmesa.so\n",
            "mujoco210/bin/libglfw3.a\n",
            "mujoco210/bin/libmujoco210.so\n",
            "mujoco210/bin/compile\n",
            "mujoco210/bin/libmujoco210nogl.so\n",
            "mujoco210/bin/testspeed\n",
            "mujoco210/include/\n",
            "mujoco210/include/glfw3.h\n",
            "mujoco210/include/uitools.c\n",
            "mujoco210/include/mjxmacro.h\n",
            "mujoco210/include/mjui.h\n",
            "mujoco210/include/mjrender.h\n",
            "mujoco210/include/mjmodel.h\n",
            "mujoco210/include/mjdata.h\n",
            "mujoco210/include/mujoco.h\n",
            "mujoco210/include/mjvisualize.h\n",
            "mujoco210/include/uitools.h\n",
            "mujoco210/model/\n",
            "mujoco210/model/humanoid100.xml\n",
            "mujoco210/model/arm26.xml\n",
            "mujoco210/model/carpet.png\n",
            "mujoco210/model/softbox.xml\n",
            "mujoco210/model/grid2pin.xml\n",
            "mujoco210/model/sponge.png\n",
            "mujoco210/model/hammock.xml\n",
            "mujoco210/model/cloth.xml\n",
            "mujoco210/model/grid2.xml\n",
            "mujoco210/model/grid1.xml\n",
            "mujoco210/model/grid1pin.xml\n",
            "mujoco210/model/softellipsoid.xml\n",
            "mujoco210/model/softcylinder.xml\n",
            "mujoco210/model/marble.png\n",
            "mujoco210/model/rope.xml\n",
            "mujoco210/model/particle.xml\n",
            "mujoco210/model/loop.xml\n",
            "mujoco210/model/humanoid.xml\n",
            "mujoco210/model/scene.xml\n",
            "mujoco210/sample/\n",
            "mujoco210/sample/derivative.cc\n",
            "mujoco210/sample/testspeed.cc\n",
            "mujoco210/sample/Makefile\n",
            "mujoco210/sample/basic.cc\n",
            "mujoco210/sample/record.cc\n",
            "mujoco210/sample/compile.cc\n",
            "mujoco210/sample/simulate.cc\n",
            "mujoco210/sample/testxml.cc\n"
          ]
        }
      ]
    },
    {
      "cell_type": "code",
      "source": [
        "!cd /content/safety-starter-agents/scripts/; python experiment.py --algo ppo_lagrangian --task goal1 --robot point --seed 0 --exp_name results "
      ],
      "metadata": {
        "id": "RMTcI-PhF08j",
        "colab": {
          "base_uri": "https://localhost:8080/"
        },
        "outputId": "aaf2b3c5-9ffe-42e9-8de7-ea147a0a3136"
      },
      "execution_count": null,
      "outputs": [
        {
          "output_type": "stream",
          "name": "stdout",
          "text": [
            "/usr/local/lib/python3.7/dist-packages/tensorflow/python/framework/dtypes.py:526: FutureWarning: Passing (type, 1) or '1type' as a synonym of type is deprecated; in a future version of numpy, it will be understood as (type, (1,)) / '(1,)type'.\n",
            "  _np_qint8 = np.dtype([(\"qint8\", np.int8, 1)])\n",
            "/usr/local/lib/python3.7/dist-packages/tensorflow/python/framework/dtypes.py:527: FutureWarning: Passing (type, 1) or '1type' as a synonym of type is deprecated; in a future version of numpy, it will be understood as (type, (1,)) / '(1,)type'.\n",
            "  _np_quint8 = np.dtype([(\"quint8\", np.uint8, 1)])\n",
            "/usr/local/lib/python3.7/dist-packages/tensorflow/python/framework/dtypes.py:528: FutureWarning: Passing (type, 1) or '1type' as a synonym of type is deprecated; in a future version of numpy, it will be understood as (type, (1,)) / '(1,)type'.\n",
            "  _np_qint16 = np.dtype([(\"qint16\", np.int16, 1)])\n",
            "/usr/local/lib/python3.7/dist-packages/tensorflow/python/framework/dtypes.py:529: FutureWarning: Passing (type, 1) or '1type' as a synonym of type is deprecated; in a future version of numpy, it will be understood as (type, (1,)) / '(1,)type'.\n",
            "  _np_quint16 = np.dtype([(\"quint16\", np.uint16, 1)])\n",
            "/usr/local/lib/python3.7/dist-packages/tensorflow/python/framework/dtypes.py:530: FutureWarning: Passing (type, 1) or '1type' as a synonym of type is deprecated; in a future version of numpy, it will be understood as (type, (1,)) / '(1,)type'.\n",
            "  _np_qint32 = np.dtype([(\"qint32\", np.int32, 1)])\n",
            "/usr/local/lib/python3.7/dist-packages/tensorflow/python/framework/dtypes.py:535: FutureWarning: Passing (type, 1) or '1type' as a synonym of type is deprecated; in a future version of numpy, it will be understood as (type, (1,)) / '(1,)type'.\n",
            "  np_resource = np.dtype([(\"resource\", np.ubyte, 1)])\n",
            "\u001b[32;1mLogging data to /content/safety-starter-agents/data/2021-12-16_ppo_lagrangian_PointGoal1/2021-12-16_04-43-38-ppo_lagrangian_PointGoal1_s0/progress.txt\u001b[0m\n",
            "\u001b[36;1mSaving config:\n",
            "\u001b[0m\n",
            "{\n",
            "    \"ac_kwargs\":\t{\n",
            "        \"hidden_sizes\":\t[\n",
            "            256,\n",
            "            256\n",
            "        ]\n",
            "    },\n",
            "    \"actor_critic\":\t\"mlp_actor_critic\",\n",
            "    \"agent\":\t{\n",
            "        \"<safe_rl.pg.agents.PPOAgent object at 0x7f1a423cbcd0>\":\t{\n",
            "            \"clip_ratio\":\t0.2,\n",
            "            \"kl_margin\":\t1.2,\n",
            "            \"params\":\t{\n",
            "                \"clipped_adv\":\ttrue,\n",
            "                \"constrained\":\tfalse,\n",
            "                \"first_order\":\ttrue,\n",
            "                \"learn_penalty\":\ttrue,\n",
            "                \"objective_penalized\":\ttrue,\n",
            "                \"penalty_param_loss\":\ttrue,\n",
            "                \"reward_penalized\":\tfalse\n",
            "            },\n",
            "            \"pi_iters\":\t80,\n",
            "            \"pi_lr\":\t0.0003\n",
            "        }\n",
            "    },\n",
            "    \"cost_gamma\":\t0.99,\n",
            "    \"cost_lam\":\t0.97,\n",
            "    \"cost_lim\":\t25,\n",
            "    \"ent_reg\":\t0.0,\n",
            "    \"env_fn\":\t\"<function main.<locals>.<lambda> at 0x7f1a7a6f4170>\",\n",
            "    \"epochs\":\t333,\n",
            "    \"exp_name\":\t\"ppo_lagrangian_PointGoal1\",\n",
            "    \"gamma\":\t0.99,\n",
            "    \"lam\":\t0.97,\n",
            "    \"logger\":\t{\n",
            "        \"<safe_rl.utils.logx.EpochLogger object at 0x7f1a423cf210>\":\t{\n",
            "            \"epoch_dict\":\t{},\n",
            "            \"exp_name\":\t\"ppo_lagrangian_PointGoal1\",\n",
            "            \"first_row\":\ttrue,\n",
            "            \"log_current_row\":\t{},\n",
            "            \"log_headers\":\t[],\n",
            "            \"output_dir\":\t\"/content/safety-starter-agents/data/2021-12-16_ppo_lagrangian_PointGoal1/2021-12-16_04-43-38-ppo_lagrangian_PointGoal1_s0\",\n",
            "            \"output_file\":\t{\n",
            "                \"<_io.TextIOWrapper name='/content/safety-starter-agents/data/2021-12-16_ppo_lagrangian_PointGoal1/2021-12-16_04-43-38-ppo_lagrangian_PointGoal1_s0/progress.txt' mode='w' encoding='UTF-8'>\":\t{\n",
            "                    \"mode\":\t\"w\"\n",
            "                }\n",
            "            }\n",
            "        }\n",
            "    },\n",
            "    \"logger_kwargs\":\t{\n",
            "        \"exp_name\":\t\"ppo_lagrangian_PointGoal1\",\n",
            "        \"output_dir\":\t\"/content/safety-starter-agents/data/2021-12-16_ppo_lagrangian_PointGoal1/2021-12-16_04-43-38-ppo_lagrangian_PointGoal1_s0\"\n",
            "    },\n",
            "    \"max_ep_len\":\t1000,\n",
            "    \"penalty_init\":\t1.0,\n",
            "    \"penalty_lr\":\t0.05,\n",
            "    \"render\":\tfalse,\n",
            "    \"save_freq\":\t50,\n",
            "    \"seed\":\t0,\n",
            "    \"steps_per_epoch\":\t30000,\n",
            "    \"target_kl\":\t0.01,\n",
            "    \"vf_iters\":\t80,\n",
            "    \"vf_lr\":\t0.001\n",
            "}\n",
            "/usr/local/lib/python3.7/dist-packages/gym/logger.py:30: UserWarning: \u001b[33mWARN: Box bound precision lowered by casting to float32\u001b[0m\n",
            "  warnings.warn(colorize('%s: %s'%('WARN', msg % args), 'yellow'))\n",
            "\u001b[32;1m\n",
            "Number of parameters: \t pi: 81924, \t v: 81665, \t vc: 81665\n",
            "\u001b[0m\n",
            "2021-12-16 04:43:40.197361: I tensorflow/core/platform/cpu_feature_guard.cc:141] Your CPU supports instructions that this TensorFlow binary was not compiled to use: AVX2 FMA\n",
            "2021-12-16 04:43:40.202504: I tensorflow/core/platform/profile_utils/cpu_utils.cc:94] CPU Frequency: 2299995000 Hz\n",
            "2021-12-16 04:43:40.202776: I tensorflow/compiler/xla/service/service.cc:150] XLA service 0x555cc5c56100 executing computations on platform Host. Devices:\n",
            "2021-12-16 04:43:40.202841: I tensorflow/compiler/xla/service/service.cc:158]   StreamExecutor device (0): <undefined>, <undefined>\n"
          ]
        }
      ]
    }
  ]
}